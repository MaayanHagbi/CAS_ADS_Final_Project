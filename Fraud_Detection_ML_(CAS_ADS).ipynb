{
  "cells": [
    {
      "cell_type": "markdown",
      "metadata": {
        "id": "view-in-github",
        "colab_type": "text"
      },
      "source": [
        "<a href=\"https://colab.research.google.com/github/MaayanHagbi/CAS_ADS_Final_Project/blob/main/Fraud_Detection_ML_(CAS_ADS).ipynb\" target=\"_parent\"><img src=\"https://colab.research.google.com/assets/colab-badge.svg\" alt=\"Open In Colab\"/></a>"
      ]
    },
    {
      "cell_type": "markdown",
      "source": [
        "#Load Packages"
      ],
      "metadata": {
        "id": "vdd56nrViEvh"
      }
    },
    {
      "cell_type": "code",
      "source": [
        "#Google Big Query related packages\n",
        "from google.colab import auth\n",
        "from google.cloud import bigquery\n",
        "import pandas as pd\n",
        "import numpy as np\n",
        "import seaborn as sns\n",
        "import os\n",
        "import matplotlib.pyplot as plt\n",
        "!pip install geoip2\n",
        "import geoip2.database\n",
        "import time\n"
      ],
      "metadata": {
        "id": "vtEi6siviRtI",
        "outputId": "d2eb3c6e-b58c-4762-9c07-63064454da32",
        "colab": {
          "base_uri": "https://localhost:8080/"
        }
      },
      "execution_count": 5,
      "outputs": [
        {
          "output_type": "stream",
          "name": "stdout",
          "text": [
            "Collecting geoip2\n",
            "  Downloading geoip2-4.8.0-py2.py3-none-any.whl (27 kB)\n",
            "Requirement already satisfied: aiohttp<4.0.0,>=3.6.2 in /usr/local/lib/python3.10/dist-packages (from geoip2) (3.9.5)\n",
            "Collecting maxminddb<3.0.0,>=2.5.1 (from geoip2)\n",
            "  Downloading maxminddb-2.6.1-cp310-cp310-manylinux_2_17_x86_64.manylinux2014_x86_64.whl (87 kB)\n",
            "\u001b[2K     \u001b[90m━━━━━━━━━━━━━━━━━━━━━━━━━━━━━━━━━━━━━━━━\u001b[0m \u001b[32m87.8/87.8 kB\u001b[0m \u001b[31m1.9 MB/s\u001b[0m eta \u001b[36m0:00:00\u001b[0m\n",
            "\u001b[?25hRequirement already satisfied: requests<3.0.0,>=2.24.0 in /usr/local/lib/python3.10/dist-packages (from geoip2) (2.31.0)\n",
            "Requirement already satisfied: setuptools>=60.0.0 in /usr/local/lib/python3.10/dist-packages (from geoip2) (67.7.2)\n",
            "Requirement already satisfied: aiosignal>=1.1.2 in /usr/local/lib/python3.10/dist-packages (from aiohttp<4.0.0,>=3.6.2->geoip2) (1.3.1)\n",
            "Requirement already satisfied: attrs>=17.3.0 in /usr/local/lib/python3.10/dist-packages (from aiohttp<4.0.0,>=3.6.2->geoip2) (23.2.0)\n",
            "Requirement already satisfied: frozenlist>=1.1.1 in /usr/local/lib/python3.10/dist-packages (from aiohttp<4.0.0,>=3.6.2->geoip2) (1.4.1)\n",
            "Requirement already satisfied: multidict<7.0,>=4.5 in /usr/local/lib/python3.10/dist-packages (from aiohttp<4.0.0,>=3.6.2->geoip2) (6.0.5)\n",
            "Requirement already satisfied: yarl<2.0,>=1.0 in /usr/local/lib/python3.10/dist-packages (from aiohttp<4.0.0,>=3.6.2->geoip2) (1.9.4)\n",
            "Requirement already satisfied: async-timeout<5.0,>=4.0 in /usr/local/lib/python3.10/dist-packages (from aiohttp<4.0.0,>=3.6.2->geoip2) (4.0.3)\n",
            "Requirement already satisfied: charset-normalizer<4,>=2 in /usr/local/lib/python3.10/dist-packages (from requests<3.0.0,>=2.24.0->geoip2) (3.3.2)\n",
            "Requirement already satisfied: idna<4,>=2.5 in /usr/local/lib/python3.10/dist-packages (from requests<3.0.0,>=2.24.0->geoip2) (3.7)\n",
            "Requirement already satisfied: urllib3<3,>=1.21.1 in /usr/local/lib/python3.10/dist-packages (from requests<3.0.0,>=2.24.0->geoip2) (2.0.7)\n",
            "Requirement already satisfied: certifi>=2017.4.17 in /usr/local/lib/python3.10/dist-packages (from requests<3.0.0,>=2.24.0->geoip2) (2024.2.2)\n",
            "Installing collected packages: maxminddb, geoip2\n",
            "Successfully installed geoip2-4.8.0 maxminddb-2.6.1\n"
          ]
        }
      ]
    },
    {
      "cell_type": "markdown",
      "source": [
        "#Authenticate Google Big Query Access"
      ],
      "metadata": {
        "id": "NUGwzXa6356V"
      }
    },
    {
      "cell_type": "code",
      "source": [
        "auth.authenticate_user()\n",
        "print('Authenticated')"
      ],
      "metadata": {
        "colab": {
          "base_uri": "https://localhost:8080/"
        },
        "id": "Tm0T9efl3ped",
        "outputId": "05336fd3-d6c8-4263-a36b-ff9bdcc04101"
      },
      "execution_count": 1,
      "outputs": [
        {
          "output_type": "stream",
          "name": "stdout",
          "text": [
            "Authenticated\n"
          ]
        }
      ]
    },
    {
      "cell_type": "markdown",
      "source": [
        "##Connect to Big Query and Get Data"
      ],
      "metadata": {
        "id": "JzqpIiMd3-69"
      }
    },
    {
      "cell_type": "code",
      "source": [
        "\n",
        "project_id = 'total-biplane-387513'\n",
        "bigquery_client = bigquery.Client(project = project_id)\n",
        "\n",
        "\n",
        "Query = \"SELECT * FROM `total-biplane-387513.Data_Sceince_Project_Dataset.CAS_ADS_Dataset`;\"\n",
        "Query_Results = bigquery_client.query(Query)\n",
        "df = Query_Results.to_dataframe()\n",
        "df\n",
        "\n",
        "#Copy Dataset\n",
        "Data_Adf = df.copy()"
      ],
      "metadata": {
        "id": "Kw_L8CatvyMk"
      },
      "execution_count": 7,
      "outputs": []
    },
    {
      "cell_type": "code",
      "source": [
        "def convert_float(columns):\n",
        "  for col in columns:\n",
        "    Data_Adf[col] = pd.to_numeric(Data_Adf[col],errors='coerce')\n",
        "\n",
        "def convert_string(columns):\n",
        "  for col in columns:\n",
        "    Data_Adf[col] = Data_Adf[col].astype(str)\n",
        "\n",
        "columns_to_string = ['id']\n",
        "columns_to_float = ['amount_gbp']\n",
        "\n",
        "convert_float(columns_to_float)\n",
        "convert_string(columns_to_string)\n",
        "\n",
        "#Add Is_fraud Column\n",
        "Data_Adf['Is_fraud'] = Data_Adf['Chargebackreason_id'].notnull().astype(int)\n",
        "\n",
        "Data_Adf.dtypes"
      ],
      "metadata": {
        "id": "CvUinwSE3zz-",
        "colab": {
          "base_uri": "https://localhost:8080/"
        },
        "outputId": "c07e04ce-1b7e-42a3-9f97-4d895011f198"
      },
      "execution_count": 16,
      "outputs": [
        {
          "output_type": "execute_result",
          "data": {
            "text/plain": [
              "id                                           object\n",
              "transaction_sn                               object\n",
              "cluster_sn                                   object\n",
              "amount                                       object\n",
              "amount_gbp                                  float64\n",
              "                                       ...         \n",
              "Chargebackreason_code                        object\n",
              "Chargebackreason_description                 object\n",
              "Chargebackreason_updated_at     datetime64[us, UTC]\n",
              "Chargebackreason_created_at     datetime64[us, UTC]\n",
              "Is_fraud                                      int64\n",
              "Length: 110, dtype: object"
            ]
          },
          "metadata": {},
          "execution_count": 16
        }
      ]
    },
    {
      "cell_type": "code",
      "source": [],
      "metadata": {
        "id": "vxsZypexiu_m"
      },
      "execution_count": null,
      "outputs": []
    }
  ],
  "metadata": {
    "colab": {
      "name": "Welcome To Colab",
      "provenance": [],
      "include_colab_link": true
    },
    "kernelspec": {
      "display_name": "Python 3",
      "name": "python3"
    }
  },
  "nbformat": 4,
  "nbformat_minor": 0
}