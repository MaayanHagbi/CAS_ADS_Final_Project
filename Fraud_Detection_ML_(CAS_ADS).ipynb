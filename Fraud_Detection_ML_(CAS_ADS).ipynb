{
  "cells": [
    {
      "cell_type": "markdown",
      "metadata": {
        "id": "view-in-github",
        "colab_type": "text"
      },
      "source": [
        "<a href=\"https://colab.research.google.com/github/MaayanHagbi/CAS_ADS_Final_Project/blob/main/Fraud_Detection_ML_(CAS_ADS).ipynb\" target=\"_parent\"><img src=\"https://colab.research.google.com/assets/colab-badge.svg\" alt=\"Open In Colab\"/></a>"
      ]
    },
    {
      "cell_type": "markdown",
      "source": [
        "#Load Packages"
      ],
      "metadata": {
        "id": "vdd56nrViEvh"
      }
    },
    {
      "cell_type": "code",
      "source": [
        "#Google Big Query related packages\n",
        "from google.colab import auth\n",
        "from google.cloud import bigquery\n",
        "import pandas as pd\n",
        "import numpy as np\n",
        "import seaborn as sns\n",
        "import os\n",
        "import matplotlib.pyplot as plt\n",
        "!pip install geoip2\n",
        "import geoip2.database\n",
        "import time\n"
      ],
      "metadata": {
        "colab": {
          "base_uri": "https://localhost:8080/"
        },
        "id": "vtEi6siviRtI",
        "outputId": "3bf2df2d-9f3c-431f-cf83-f97ab836e8b5"
      },
      "execution_count": 2,
      "outputs": [
        {
          "output_type": "stream",
          "name": "stdout",
          "text": [
            "Requirement already satisfied: geoip2 in /usr/local/lib/python3.10/dist-packages (4.8.0)\n",
            "Requirement already satisfied: aiohttp<4.0.0,>=3.6.2 in /usr/local/lib/python3.10/dist-packages (from geoip2) (3.9.5)\n",
            "Requirement already satisfied: maxminddb<3.0.0,>=2.5.1 in /usr/local/lib/python3.10/dist-packages (from geoip2) (2.6.1)\n",
            "Requirement already satisfied: requests<3.0.0,>=2.24.0 in /usr/local/lib/python3.10/dist-packages (from geoip2) (2.31.0)\n",
            "Requirement already satisfied: setuptools>=60.0.0 in /usr/local/lib/python3.10/dist-packages (from geoip2) (67.7.2)\n",
            "Requirement already satisfied: aiosignal>=1.1.2 in /usr/local/lib/python3.10/dist-packages (from aiohttp<4.0.0,>=3.6.2->geoip2) (1.3.1)\n",
            "Requirement already satisfied: attrs>=17.3.0 in /usr/local/lib/python3.10/dist-packages (from aiohttp<4.0.0,>=3.6.2->geoip2) (23.2.0)\n",
            "Requirement already satisfied: frozenlist>=1.1.1 in /usr/local/lib/python3.10/dist-packages (from aiohttp<4.0.0,>=3.6.2->geoip2) (1.4.1)\n",
            "Requirement already satisfied: multidict<7.0,>=4.5 in /usr/local/lib/python3.10/dist-packages (from aiohttp<4.0.0,>=3.6.2->geoip2) (6.0.5)\n",
            "Requirement already satisfied: yarl<2.0,>=1.0 in /usr/local/lib/python3.10/dist-packages (from aiohttp<4.0.0,>=3.6.2->geoip2) (1.9.4)\n",
            "Requirement already satisfied: async-timeout<5.0,>=4.0 in /usr/local/lib/python3.10/dist-packages (from aiohttp<4.0.0,>=3.6.2->geoip2) (4.0.3)\n",
            "Requirement already satisfied: charset-normalizer<4,>=2 in /usr/local/lib/python3.10/dist-packages (from requests<3.0.0,>=2.24.0->geoip2) (3.3.2)\n",
            "Requirement already satisfied: idna<4,>=2.5 in /usr/local/lib/python3.10/dist-packages (from requests<3.0.0,>=2.24.0->geoip2) (3.7)\n",
            "Requirement already satisfied: urllib3<3,>=1.21.1 in /usr/local/lib/python3.10/dist-packages (from requests<3.0.0,>=2.24.0->geoip2) (2.0.7)\n",
            "Requirement already satisfied: certifi>=2017.4.17 in /usr/local/lib/python3.10/dist-packages (from requests<3.0.0,>=2.24.0->geoip2) (2024.2.2)\n"
          ]
        }
      ]
    },
    {
      "cell_type": "markdown",
      "source": [
        "#Authenticate Google Big Query Access"
      ],
      "metadata": {
        "id": "NUGwzXa6356V"
      }
    },
    {
      "cell_type": "code",
      "source": [
        "auth.authenticate_user()\n",
        "print('Authenticated')"
      ],
      "metadata": {
        "colab": {
          "base_uri": "https://localhost:8080/"
        },
        "id": "Tm0T9efl3ped",
        "outputId": "54a8a6ab-1099-45f8-c790-667732bb1324"
      },
      "execution_count": 3,
      "outputs": [
        {
          "output_type": "stream",
          "name": "stdout",
          "text": [
            "Authenticated\n"
          ]
        }
      ]
    },
    {
      "cell_type": "markdown",
      "source": [
        "##Connect to Big Query and Get Data"
      ],
      "metadata": {
        "id": "JzqpIiMd3-69"
      }
    },
    {
      "cell_type": "code",
      "source": [
        "\n",
        "project_id = 'total-biplane-387513'\n",
        "bigquery_client = bigquery.Client(project = project_id)\n",
        "\n",
        "Query = \"SELECT * FROM `total-biplane-387513.Data_Sceince_Project_Dataset.CAS_ADS_Dataset`;\"\n",
        "Query_Results = bigquery_client.query(Query)\n",
        "df = Query_Results.to_dataframe()\n",
        "df\n",
        "\n",
        "#Copy Dataset\n",
        "Data_Adf = df.copy()\n",
        "\n",
        "#Account for Null Values\n",
        "Data_Adf.replace('<NA>', np.nan, inplace=True)"
      ],
      "metadata": {
        "id": "Kw_L8CatvyMk"
      },
      "execution_count": 4,
      "outputs": []
    },
    {
      "cell_type": "code",
      "source": [
        "def convert_float(columns):\n",
        "  for col in columns:\n",
        "    Data_Adf[col] = pd.to_numeric(Data_Adf[col],errors='coerce')\n",
        "\n",
        "def convert_string(columns):\n",
        "  for col in columns:\n",
        "    Data_Adf[col] = Data_Adf[col].astype(str)\n",
        "\n",
        "columns_to_string = ['id']\n",
        "columns_to_float = ['amount_gbp']\n",
        "\n",
        "convert_float(columns_to_float)\n",
        "convert_string(columns_to_string)\n",
        "\n",
        "\n",
        "\n",
        "#Add Is_fraud Column\n",
        "Data_Adf['Is_fraud'] = Data_Adf['Chargebackreason_id'].notnull()\n"
      ],
      "metadata": {
        "id": "CvUinwSE3zz-"
      },
      "execution_count": 5,
      "outputs": []
    },
    {
      "cell_type": "markdown",
      "source": [
        "#Data Analysis"
      ],
      "metadata": {
        "id": "GpnClWYmkqvM"
      }
    },
    {
      "cell_type": "code",
      "source": [
        "#Look into share of fradulent trx vs non-fraudulent\n",
        "Data_Adf['Is_fraud'].value_counts().plot.pie(labels=['Non-Fraud','Fraud'],colors=['gold','black'], autopct='%1.1f%%',startangle=140,textprops={'color':\"black\"})\n",
        "\n",
        "plt.title('Proportion of Fraudulent Transactions')\n",
        "plt.ylabel('')\n",
        "plt.axis('equal')\n",
        "plt.show()\n",
        "\n",
        "\n",
        "#Check Amount distribution of Fraudulent Vs non Fraudulent Trx\n",
        "fraudulent_df = Data_Adf[Data_Adf[\"Is_fraud\"]==True]\n",
        "non_fraudulent_df = Data_Adf[Data_Adf[\"Is_fraud\"]==False]\n",
        "\n",
        "#Trx_amount_gbp\n",
        "plt.figure(figsize=(15,10))\n",
        "total_points = len(non_fraudulent_df[\"amount_gbp\"])\n",
        "percentage_ticks = [f'{(y / total_points) * 100:.2f}%' for y in plt.gca().get_yticks()]\n",
        "plt.gca().set_yticklabels(percentage_ticks)\n",
        "xmin, xmax = 0, 2500\n",
        "plt.xlim(xmin, xmax)\n",
        "mean_value = np.mean(non_fraudulent_df[\"amount_gbp\"])\n",
        "median_value = np.median(non_fraudulent_df[\"amount_gbp\"])\n",
        "frequency_percentages = (non_fraudulent_df[\"amount_gbp\"].value_counts(normalize=True) * 100).sort_index()\n",
        "sns.histplot(non_fraudulent_df[\"amount_gbp\"],bins=len(frequency_percentages), kde=True, color='gold', edgecolor='black')\n",
        "plt.axvline(mean_value, color='black', linestyle='dashed', linewidth=1)\n",
        "plt.axvline(median_value, color='black', linestyle='dashed', linewidth=1)\n",
        "plt.show()\n",
        "\n",
        "\n",
        "plt.figure(figsize=(15,10))\n",
        "sns.histplot(fraudulent_df[\"amount_gbp\"], kde=True, color='gold', edgecolor='black')\n",
        "mean_value = np.mean(fraudulent_df[\"amount_gbp\"])\n",
        "median_value = np.median(fraudulent_df[\"amount_gbp\"])\n",
        "plt.axvline(mean_value, color='black', linestyle='dashed', linewidth=1)\n",
        "plt.axvline(median_value, color='black', linestyle='dashed', linewidth=1)\n",
        "plt.show()\n"
      ],
      "metadata": {
        "colab": {
          "base_uri": "https://localhost:8080/",
          "height": 463
        },
        "id": "vxsZypexiu_m",
        "outputId": "107ccbde-d3cd-4b1c-e970-49fe9e6588db"
      },
      "execution_count": null,
      "outputs": [
        {
          "output_type": "display_data",
          "data": {
            "text/plain": [
              "<Figure size 640x480 with 1 Axes>"
            ],
            "image/png": "[encoded data removed]"
          },
          "metadata": {}
        },
        {
          "output_type": "stream",
          "name": "stderr",
          "text": [
            "<ipython-input-18-2f884f14bca5>:18: UserWarning: FixedFormatter should only be used together with FixedLocator\n",
            "  plt.gca().set_yticklabels(percentage_ticks)\n"
          ]
        }
      ]
    },
    {
      "cell_type": "code",
      "source": [],
      "metadata": {
        "id": "IBH1Z2V-kueS"
      },
      "execution_count": null,
      "outputs": []
    }
  ],
  "metadata": {
    "colab": {
      "name": "Welcome To Colab",
      "provenance": [],
      "include_colab_link": true
    },
    "kernelspec": {
      "display_name": "Python 3",
      "name": "python3"
    }
  },
  "nbformat": 4,
  "nbformat_minor": 0
}